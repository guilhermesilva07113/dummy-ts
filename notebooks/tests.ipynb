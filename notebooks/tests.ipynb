{
 "cells": [
  {
   "cell_type": "code",
   "execution_count": null,
   "metadata": {},
   "outputs": [],
   "source": [
    "import numpy as np\n",
    "from numba import jit\n",
    "\n",
    "def cfe(y_true: np.array, y_pred: np.array):\n",
    "    return (np.sum(y_true - y_pred))\n",
    "\n",
    "vec1 = np.random.rand(50)\n",
    "vec2 = np.random.rand(50)"
   ]
  },
  {
   "cell_type": "code",
   "execution_count": null,
   "metadata": {},
   "outputs": [],
   "source": [
    "%timeit cfe(vec1, vec2)"
   ]
  },
  {
   "cell_type": "code",
   "execution_count": null,
   "metadata": {},
   "outputs": [],
   "source": [
    "@jit(nopython=True)\n",
    "def cfe(y_true: np.array, y_pred: np.array):\n",
    "    return (np.sum(y_true - y_pred))\n",
    "\n"
   ]
  },
  {
   "cell_type": "code",
   "execution_count": null,
   "metadata": {},
   "outputs": [],
   "source": [
    "%timeit cfe(vec1, vec2)"
   ]
  },
  {
   "cell_type": "code",
   "execution_count": null,
   "metadata": {},
   "outputs": [],
   "source": [
    "805/3"
   ]
  },
  {
   "cell_type": "code",
   "execution_count": null,
   "metadata": {},
   "outputs": [],
   "source": [
    "args = {    \n",
    "    \"-d\": \"home/guilherme\",\n",
    "    \"-l\": 12,\n",
    "}\n",
    "\n",
    "# Convert arguments dictionary to a list of strings\n",
    "arg_list = [str(item) for sublist in args.items() for item in sublist]\n",
    "arg_list"
   ]
  },
  {
   "cell_type": "code",
   "execution_count": null,
   "metadata": {},
   "outputs": [],
   "source": [
    "import json\n",
    "path = \"/home/guilherme/Documents/poc-exxon/data/08_reporting/global_global/configuracoes_fixas_da_rodada.json\"\n",
    "mode = 'r'\n",
    "import os\n",
    "# os.stat(path).st_size\n",
    "with open(path, mode) as f:\n",
    "    obj = json.load(f)\n",
    "\n",
    "obj\n"
   ]
  }
 ],
 "metadata": {
  "language_info": {
   "name": "python",
   "pygments_lexer": "ipython3"
  }
 },
 "nbformat": 4,
 "nbformat_minor": 2
}
